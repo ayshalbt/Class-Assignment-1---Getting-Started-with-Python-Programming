{
  "nbformat": 4,
  "nbformat_minor": 0,
  "metadata": {
    "colab": {
      "name": "Untitled3.ipynb",
      "provenance": [],
      "authorship_tag": "ABX9TyMszi83CMxFFK79+d2nMXum",
      "include_colab_link": true
    },
    "kernelspec": {
      "name": "python3",
      "display_name": "Python 3"
    }
  },
  "cells": [
    {
      "cell_type": "markdown",
      "metadata": {
        "id": "view-in-github",
        "colab_type": "text"
      },
      "source": [
        "<a href=\"https://colab.research.google.com/github/ayshalbt/Class-Assignment-1---Getting-Started-with-Python-Programming/blob/master/Programmming%20Exercise-Session%2018.ipynb\" target=\"_parent\"><img src=\"https://colab.research.google.com/assets/colab-badge.svg\" alt=\"Open In Colab\"/></a>"
      ]
    },
    {
      "cell_type": "markdown",
      "metadata": {
        "id": "GoxpHwlZhrHN"
      },
      "source": [
        ""
      ]
    },
    {
      "cell_type": "markdown",
      "metadata": {
        "id": "_03CqVDththw"
      },
      "source": [
        "1. write a python program to get the largest number from a list."
      ]
    },
    {
      "cell_type": "code",
      "metadata": {
        "id": "nYRtHsLrh9O_",
        "outputId": "85fcda3b-1cc3-4ff1-befc-8c294e99dcd1",
        "colab": {
          "base_uri": "https://localhost:8080/",
          "height": 35
        }
      },
      "source": [
        "list1 = [77,56,22,23,98] \n",
        "list1.sort() \n",
        "print(\"Largest number in the list is:\", list1[-1])"
      ],
      "execution_count": 1,
      "outputs": [
        {
          "output_type": "stream",
          "text": [
            "Largest number in the list is: 98\n"
          ],
          "name": "stdout"
        }
      ]
    },
    {
      "cell_type": "markdown",
      "metadata": {
        "id": "ZoFCNYm_iF1y"
      },
      "source": [
        "2. write a program code to search an element in a list."
      ]
    },
    {
      "cell_type": "code",
      "metadata": {
        "id": "9oTTP2_niOnu",
        "outputId": "85899490-5fab-4305-e5a8-31dbcdc98660",
        "colab": {
          "base_uri": "https://localhost:8080/",
          "height": 35
        }
      },
      "source": [
        "def search(list,item):\n",
        "  for i in range(len(list)):\n",
        "    if list[i] == item:\n",
        "      return True\n",
        "  return False\n",
        "list = ['mango',2,7,'fruit',8]\n",
        "item = 'mango'\n",
        "if search(list,item):\n",
        "  print(\"Found the element in list\")\n",
        "else:\n",
        "  print(\"Not Found\")"
      ],
      "execution_count": 5,
      "outputs": [
        {
          "output_type": "stream",
          "text": [
            "Found the element in list\n"
          ],
          "name": "stdout"
        }
      ]
    },
    {
      "cell_type": "markdown",
      "metadata": {
        "id": "jR7B33WD8at1"
      },
      "source": [
        "3. write a python program to sum all the items in a list."
      ]
    },
    {
      "cell_type": "code",
      "metadata": {
        "id": "qc5kfei68rV2",
        "outputId": "3944ae31-62f4-4399-9507-d3e9b3db3524",
        "colab": {
          "base_uri": "https://localhost:8080/",
          "height": 35
        }
      },
      "source": [
        "list1 = [4,8,9,10]\n",
        "newlist = sum(list1)\n",
        "print(\"sum of all numbers in the list:\",newlist)"
      ],
      "execution_count": 9,
      "outputs": [
        {
          "output_type": "stream",
          "text": [
            "sum of all numbers in the list: 31\n"
          ],
          "name": "stdout"
        }
      ]
    },
    {
      "cell_type": "markdown",
      "metadata": {
        "id": "7_hCWQFH9Z-V"
      },
      "source": [
        "4. write a python program to remove duplicates from a list."
      ]
    },
    {
      "cell_type": "code",
      "metadata": {
        "id": "K3H20Opx9qvS",
        "outputId": "f2298920-8092-472e-9523-b08f257e9cbe",
        "colab": {
          "base_uri": "https://localhost:8080/",
          "height": 35
        }
      },
      "source": [
        "mylist = [1,3,4,7,4,3,1,2,1]\n",
        "newlist = set(mylist)\n",
        "print(newlist)"
      ],
      "execution_count": 11,
      "outputs": [
        {
          "output_type": "stream",
          "text": [
            "{1, 2, 3, 4, 7}\n"
          ],
          "name": "stdout"
        }
      ]
    },
    {
      "cell_type": "markdown",
      "metadata": {
        "id": "zV8WaQjI9x-H"
      },
      "source": [
        "5. write a python function that takes two lists and returns trueif they have at least one common member."
      ]
    },
    {
      "cell_type": "code",
      "metadata": {
        "id": "9MqW-jVC-08F",
        "outputId": "05644656-3b23-48e1-cb22-1f6e19c6231f",
        "colab": {
          "base_uri": "https://localhost:8080/",
          "height": 35
        }
      },
      "source": [
        "def common_data(list1,list2):\n",
        "  result = False\n",
        "  for i in list1:\n",
        "    for j in list2:\n",
        "      if i == j:\n",
        "        result = True\n",
        "        return result\n",
        "  return result\n",
        "list1 = [1,2,3,4,5]\n",
        "list2 = [5,6,7,8,9]\n",
        "print(common_data(list1,list2))"
      ],
      "execution_count": 12,
      "outputs": [
        {
          "output_type": "stream",
          "text": [
            "True\n"
          ],
          "name": "stdout"
        }
      ]
    },
    {
      "cell_type": "markdown",
      "metadata": {
        "id": "iig6Z1h7ANjJ"
      },
      "source": [
        "6. write a python program to append a list to the second list."
      ]
    },
    {
      "cell_type": "code",
      "metadata": {
        "id": "Jlf7O1SaAeMT",
        "outputId": "29e3009f-6bbb-415c-e234-7473369cd48a",
        "colab": {
          "base_uri": "https://localhost:8080/",
          "height": 35
        }
      },
      "source": [
        "l1 = [1,2,3]\n",
        "l2 = [\"dubai\",\"france\",\"italy\"]\n",
        "l1.extend(l2)\n",
        "print(\"New list is\",l1) "
      ],
      "execution_count": 15,
      "outputs": [
        {
          "output_type": "stream",
          "text": [
            "New list is [1, 2, 3, 'dubai', 'france', 'italy']\n"
          ],
          "name": "stdout"
        }
      ]
    },
    {
      "cell_type": "markdown",
      "metadata": {
        "id": "fxx_pCEtDOYZ"
      },
      "source": [
        "7. Write a python to check if a given number is a composite number or not?"
      ]
    },
    {
      "cell_type": "code",
      "metadata": {
        "id": "qQNqAJUSENPM",
        "outputId": "f5ce9b3d-13e4-4749-879d-ee1b49839b73",
        "colab": {
          "base_uri": "https://localhost:8080/",
          "height": 53
        }
      },
      "source": [
        "n= int(input(\"Enter the number: \"))\n",
        "factor=0\n",
        "for i in range(1,n):\n",
        "  if n%i==0:\n",
        "    factor=i\n",
        "if factor>1:\n",
        "  print(\"This is a composite number\")\n",
        "elif n==1:\n",
        "  print(\"The number 1 is neither prime nor composite\")\n",
        "else:\n",
        "  print(\"This is not a composite number\")"
      ],
      "execution_count": 20,
      "outputs": [
        {
          "output_type": "stream",
          "text": [
            "Enter the number: 5\n",
            "This is not a composite number\n"
          ],
          "name": "stdout"
        }
      ]
    },
    {
      "cell_type": "markdown",
      "metadata": {
        "id": "Pww3itGdFIKG"
      },
      "source": [
        "8.write a python code to add two matrices using list."
      ]
    },
    {
      "cell_type": "code",
      "metadata": {
        "id": "xCeiH71rGDWh",
        "outputId": "62aeaf95-df59-4649-bde8-663c9ccf46cc",
        "colab": {
          "base_uri": "https://localhost:8080/",
          "height": 71
        }
      },
      "source": [
        "X = [[1,2,3],[4,5,6],[7,8,9]] \n",
        "Y = [[9,8,7],[6,5,4],[3,2,1]] \n",
        "result = [[X[i][j] + Y[i][j]  for j in range\n",
        "(len(X[0]))] for i in range(len(X))] \n",
        "for r in result: \n",
        "    print(r)"
      ],
      "execution_count": 35,
      "outputs": [
        {
          "output_type": "stream",
          "text": [
            "[10, 10, 10]\n",
            "[10, 10, 10]\n",
            "[10, 10, 10]\n"
          ],
          "name": "stdout"
        }
      ]
    },
    {
      "cell_type": "markdown",
      "metadata": {
        "id": "Nj83RJJ4INTM"
      },
      "source": [
        "9.write a python program to check of a string is palindrome or not."
      ]
    },
    {
      "cell_type": "code",
      "metadata": {
        "id": "1UjJZQLZITNt",
        "outputId": "f8e3c1ae-7a59-4d08-8ed2-4bee20b54dd8",
        "colab": {
          "base_uri": "https://localhost:8080/",
          "height": 53
        }
      },
      "source": [
        "string = input(\"enter a string:\")\n",
        "revstring = string[::-1]\n",
        "if(revstring==string):\n",
        "    print(\"This is a palindrome string\")\n",
        "else:\n",
        "    print(\"This is not a palindrome string\")"
      ],
      "execution_count": 32,
      "outputs": [
        {
          "output_type": "stream",
          "text": [
            "enter a string:Malayalam\n",
            "This is not a palindrome string\n"
          ],
          "name": "stdout"
        }
      ]
    },
    {
      "cell_type": "markdown",
      "metadata": {
        "id": "zYSdYd-NJXpq"
      },
      "source": [
        "10.write a python to print multiplication table of a number."
      ]
    },
    {
      "cell_type": "code",
      "metadata": {
        "id": "Puv9GqVIJdvN",
        "outputId": "346a3d35-8b90-4fb8-9a34-aad627d97fdf",
        "colab": {
          "base_uri": "https://localhost:8080/",
          "height": 233
        }
      },
      "source": [
        "n = int(input(\"enter the value\"))\n",
        "i = 1\n",
        "while(i<=10):\n",
        "  print(i, \"*\",n,\"=\",i*n)\n",
        "  i = i+1\n",
        "print()"
      ],
      "execution_count": 33,
      "outputs": [
        {
          "output_type": "stream",
          "text": [
            "enter the value6\n",
            "1 * 6 = 6\n",
            "2 * 6 = 12\n",
            "3 * 6 = 18\n",
            "4 * 6 = 24\n",
            "5 * 6 = 30\n",
            "6 * 6 = 36\n",
            "7 * 6 = 42\n",
            "8 * 6 = 48\n",
            "9 * 6 = 54\n",
            "10 * 6 = 60\n",
            "\n"
          ],
          "name": "stdout"
        }
      ]
    },
    {
      "cell_type": "markdown",
      "metadata": {
        "id": "6asv7YaJCn1a"
      },
      "source": [
        ""
      ]
    },
    {
      "cell_type": "code",
      "metadata": {
        "id": "I4YIdpO0-d-E"
      },
      "source": [
        ""
      ],
      "execution_count": null,
      "outputs": []
    }
  ]
}