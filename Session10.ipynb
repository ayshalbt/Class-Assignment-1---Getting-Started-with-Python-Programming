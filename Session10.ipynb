{
  "nbformat": 4,
  "nbformat_minor": 0,
  "metadata": {
    "colab": {
      "name": "Session10.ipynb",
      "provenance": [],
      "authorship_tag": "ABX9TyOlw+g9PHcgqYkH1Z7vDa9o",
      "include_colab_link": true
    },
    "kernelspec": {
      "name": "python3",
      "display_name": "Python 3"
    }
  },
  "cells": [
    {
      "cell_type": "markdown",
      "metadata": {
        "id": "view-in-github",
        "colab_type": "text"
      },
      "source": [
        "<a href=\"https://colab.research.google.com/github/ayshalbt/Class-Assignment-1---Getting-Started-with-Python-Programming/blob/master/Session10.ipynb\" target=\"_parent\"><img src=\"https://colab.research.google.com/assets/colab-badge.svg\" alt=\"Open In Colab\"/></a>"
      ]
    },
    {
      "cell_type": "code",
      "metadata": {
        "colab": {
          "base_uri": "https://localhost:8080/"
        },
        "id": "cytJ_tiegEsY",
        "outputId": "bf0c6013-1353-4e4c-a5a6-72cdfe8e13df"
      },
      "source": [
        "num = int(input(\"Enter a number: \"))\r\n",
        "sum = 0\r\n",
        "temp = num\r\n",
        "while temp > 0:\r\n",
        " digit = temp % 10\r\n",
        " sum += digit ** 3\r\n",
        " temp //= 10\r\n",
        "if num == sum:\r\n",
        " print(num,\"is an Armstrong number\")\r\n",
        "else:\r\n",
        " print(num,\"is not an Armstrong number\")\r\n",
        " "
      ],
      "execution_count": 2,
      "outputs": [
        {
          "output_type": "stream",
          "text": [
            "Enter a number: 370\n",
            "370 is an Armstrong number\n"
          ],
          "name": "stdout"
        }
      ]
    },
    {
      "cell_type": "code",
      "metadata": {
        "colab": {
          "base_uri": "https://localhost:8080/"
        },
        "id": "aJdKe4tlj0r9",
        "outputId": "a526be4d-74ad-41e5-d9f0-a255fd5aa488"
      },
      "source": [
        "print(\"Input three integers(sides of a triangle)\")\r\n",
        "int_num = list(map(int,input().split()))\r\n",
        "x,y,z = sorted(int_num)\r\n",
        "if x**2+y**2==z**2:\r\n",
        "   print('Yes')\r\n",
        "else:\r\n",
        "   print('No')"
      ],
      "execution_count": 5,
      "outputs": [
        {
          "output_type": "stream",
          "text": [
            "Input three integers(sides of a triangle)\n",
            "4 3 5\n",
            "Yes\n"
          ],
          "name": "stdout"
        }
      ]
    },
    {
      "cell_type": "code",
      "metadata": {
        "colab": {
          "base_uri": "https://localhost:8080/"
        },
        "id": "tqsf0Uszhk6d",
        "outputId": "441915ab-ed81-4f8b-b38e-2148d8821338"
      },
      "source": [
        "l=int(input(\"lower value:\"))\r\n",
        "u=int(input(\"upper value:\"))\r\n",
        "c=0\r\n",
        "for i in range(l,u + 1):\r\n",
        "   if  i> 1:\r\n",
        "       for j in range(2,i):\r\n",
        "           if (i%j) == 0:\r\n",
        "               break\r\n",
        "       else:\r\n",
        "           c+=1\r\n",
        "print(c)"
      ],
      "execution_count": 1,
      "outputs": [
        {
          "output_type": "stream",
          "text": [
            "lower value:1\n",
            "upper value:2\n",
            "1\n"
          ],
          "name": "stdout"
        }
      ]
    },
    {
      "cell_type": "code",
      "metadata": {
        "colab": {
          "base_uri": "https://localhost:8080/"
        },
        "id": "3Rloe4NMmZLr",
        "outputId": "d51f17c2-838b-4090-886c-7ed5dc21ae58"
      },
      "source": [
        "celsius = float(input(\"Enter temperature in celsius: \"))\r\n",
        "fahrenheit = (celsius * 9/5) + 32\r\n",
        "print('%.2f Celsius is: %0.2f Fahrenheit' %(celsius, fahrenheit))"
      ],
      "execution_count": 7,
      "outputs": [
        {
          "output_type": "stream",
          "text": [
            "Enter temperature in celsius: 32\n",
            "32.00 Celsius is: 89.60 Fahrenheit\n"
          ],
          "name": "stdout"
        }
      ]
    },
    {
      "cell_type": "code",
      "metadata": {
        "colab": {
          "base_uri": "https://localhost:8080/"
        },
        "id": "bbb9uLD2ms8B",
        "outputId": "eaabb2dc-5420-4e7a-e7f5-22634974f7f1"
      },
      "source": [
        "b = int(input(\"Input the base : \"))\r\n",
        "h = int(input(\"Input the height : \"))\r\n",
        " \r\n",
        "area = b*h/2\r\n",
        " \r\n",
        "print(\"area = \", area)"
      ],
      "execution_count": 8,
      "outputs": [
        {
          "output_type": "stream",
          "text": [
            "Input the base : 4\n",
            "Input the height : 6\n",
            "area =  12.0\n"
          ],
          "name": "stdout"
        }
      ]
    }
  ]
}