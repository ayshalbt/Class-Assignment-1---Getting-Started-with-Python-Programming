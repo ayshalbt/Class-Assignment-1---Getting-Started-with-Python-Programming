{
  "nbformat": 4,
  "nbformat_minor": 0,
  "metadata": {
    "colab": {
      "name": "Session8.ipynb",
      "provenance": [],
      "authorship_tag": "ABX9TyNJBcsJRZPvLIOASF71ltQU",
      "include_colab_link": true
    },
    "kernelspec": {
      "name": "python3",
      "display_name": "Python 3"
    }
  },
  "cells": [
    {
      "cell_type": "markdown",
      "metadata": {
        "id": "view-in-github",
        "colab_type": "text"
      },
      "source": [
        "<a href=\"https://colab.research.google.com/github/ayshalbt/Class-Assignment-1---Getting-Started-with-Python-Programming/blob/master/Session8.ipynb\" target=\"_parent\"><img src=\"https://colab.research.google.com/assets/colab-badge.svg\" alt=\"Open In Colab\"/></a>"
      ]
    },
    {
      "cell_type": "code",
      "metadata": {
        "colab": {
          "base_uri": "https://localhost:8080/"
        },
        "id": "2qTXl56q2Idd",
        "outputId": "540ae9c5-c664-40b4-fe56-190f02657dc4"
      },
      "source": [
        "#1\r\n",
        "def sum():\r\n",
        "\tadd=lambda n:n+15\r\n",
        "\tprint(add(5))\r\n",
        "def prod():\r\n",
        "\tmulti=lambda x,y:x*y\r\n",
        "\tprint(multi(1,2))\r\n",
        "sum()\r\n",
        "prod()"
      ],
      "execution_count": 2,
      "outputs": [
        {
          "output_type": "stream",
          "text": [
            "20\n",
            "2\n"
          ],
          "name": "stdout"
        }
      ]
    },
    {
      "cell_type": "code",
      "metadata": {
        "colab": {
          "base_uri": "https://localhost:8080/"
        },
        "id": "wwVoZL5y2ade",
        "outputId": "6c7b3f4e-3a34-409f-aefe-7954e2b698e4"
      },
      "source": [
        "#2\r\n",
        "def Max(list):\r\n",
        "    if len(list) == 1:\r\n",
        "        return list[0]\r\n",
        "    else:\r\n",
        "        m = Max(list[1:])\r\n",
        "        if m > list[0]:\r\n",
        "            return m \r\n",
        "        else:\r\n",
        "            return list[0]\r\n",
        "\r\n",
        "list = [67,89,21,34,90,47]\r\n",
        "print(\"The largest number in the list is : \", Max(list))"
      ],
      "execution_count": 7,
      "outputs": [
        {
          "output_type": "stream",
          "text": [
            "The largest number in the list is :  90\n"
          ],
          "name": "stdout"
        }
      ]
    },
    {
      "cell_type": "code",
      "metadata": {
        "id": "rq9p8JRY2au_"
      },
      "source": [
        "#3\r\n",
        "n=int(input(\"Enter the number of elements to be inserted: \"))\r\n",
        "a=[]\r\n",
        "for i in range(0,n):\r\n",
        "    elem=int(input(\"Enter element: \"))\r\n",
        "    a.append(elem)\r\n",
        "avg=sum(a)/n\r\n",
        "print(\"Average of elements in the list\",round(avg,2))"
      ],
      "execution_count": null,
      "outputs": []
    },
    {
      "cell_type": "code",
      "metadata": {
        "id": "pusq3ny227pK"
      },
      "source": [
        "#4\r\n",
        "my_list = ['p', 'q']\r\n",
        "n = 4\r\n",
        "new_list = ['{}{}'.format(x, y) for y in range(1, n+1) for x in my_list]\r\n",
        "print(new_list)"
      ],
      "execution_count": null,
      "outputs": []
    },
    {
      "cell_type": "code",
      "metadata": {
        "id": "S68yY9HN28T_"
      },
      "source": [
        "#5\r\n",
        "def fibo(n):\r\n",
        "   if n <= 1:\r\n",
        "       return n\r\n",
        "   else:\r\n",
        "       return(fibo(n-1) + fibo(n-2))\r\n",
        "n=int(input())\r\n",
        "num=fibo(n)\r\n",
        "print(num)"
      ],
      "execution_count": null,
      "outputs": []
    },
    {
      "cell_type": "code",
      "metadata": {
        "colab": {
          "base_uri": "https://localhost:8080/"
        },
        "id": "ZVzASL1I6bB2",
        "outputId": "710962a9-2af8-4fcb-f273-12168cbcb903"
      },
      "source": [
        "#6\r\n",
        "def recur_sum(n):\r\n",
        "   if n <= 1:\r\n",
        "       return n\r\n",
        "   else:\r\n",
        "       return n + recur_sum(n-1)\r\n",
        "\r\n",
        "# change this value for a different result\r\n",
        "num = 16\r\n",
        "\r\n",
        "if num < 0:\r\n",
        "   print(\"Enter a positive number\")\r\n",
        "else:\r\n",
        "   print(\"The sum is\",recur_sum(num))"
      ],
      "execution_count": 5,
      "outputs": [
        {
          "output_type": "stream",
          "text": [
            "The sum is 136\n"
          ],
          "name": "stdout"
        }
      ]
    },
    {
      "cell_type": "code",
      "metadata": {
        "colab": {
          "base_uri": "https://localhost:8080/"
        },
        "id": "TDeHVjis6hId",
        "outputId": "d401d798-7905-4627-8cf7-3eefc84605c1"
      },
      "source": [
        "#7\r\n",
        "def factorial(x):\r\n",
        "    if x==1:\r\n",
        "        return 1\r\n",
        "    else:\r\n",
        "        return x*factorial(x-1)\r\n",
        "\r\n",
        "f=factorial(5)\r\n",
        "print (f)"
      ],
      "execution_count": 6,
      "outputs": [
        {
          "output_type": "stream",
          "text": [
            "120\n"
          ],
          "name": "stdout"
        }
      ]
    }
  ]
}