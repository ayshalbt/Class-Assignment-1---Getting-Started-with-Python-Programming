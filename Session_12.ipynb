{
  "nbformat": 4,
  "nbformat_minor": 0,
  "metadata": {
    "colab": {
      "name": "Session 12.ipynb",
      "provenance": [],
      "authorship_tag": "ABX9TyPdIMCr3L03QAjXpsoIQ3oW",
      "include_colab_link": true
    },
    "kernelspec": {
      "name": "python3",
      "display_name": "Python 3"
    }
  },
  "cells": [
    {
      "cell_type": "markdown",
      "metadata": {
        "id": "view-in-github",
        "colab_type": "text"
      },
      "source": [
        "<a href=\"https://colab.research.google.com/github/ayshalbt/Class-Assignment-1---Getting-Started-with-Python-Programming/blob/master/Session_12.ipynb\" target=\"_parent\"><img src=\"https://colab.research.google.com/assets/colab-badge.svg\" alt=\"Open In Colab\"/></a>"
      ]
    },
    {
      "cell_type": "markdown",
      "metadata": {
        "id": "EENi6Obekl4y"
      },
      "source": [
        "Q1."
      ]
    },
    {
      "cell_type": "code",
      "metadata": {
        "colab": {
          "base_uri": "https://localhost:8080/"
        },
        "id": "-Rkzx0Bskm-8",
        "outputId": "0dfec213-cf6e-4915-a958-01b589f033dc"
      },
      "source": [
        "s =0\r\n",
        "s1 =0\r\n",
        "a =0\r\n",
        "a1 =0\r\n",
        "c =0\r\n",
        "c1 =0\r\n",
        "for j in range(4):\r\n",
        "   j = int(input(\"enter no \"))\r\n",
        "   if j < 0:\r\n",
        "      c +=1\r\n",
        "      s += j\r\n",
        "      a = s/c\r\n",
        "   else: \r\n",
        "      c1 +=1\r\n",
        "      s1 += j\r\n",
        "      a1 = s1/c1\r\n",
        "print(s,a)\r\n",
        "print(s1,a1)"
      ],
      "execution_count": 2,
      "outputs": [
        {
          "output_type": "stream",
          "text": [
            "enter no -2\n",
            "enter no -1\n",
            "enter no 1\n",
            "enter no 2\n",
            "-3 -1.5\n",
            "3 1.5\n"
          ],
          "name": "stdout"
        }
      ]
    },
    {
      "cell_type": "markdown",
      "metadata": {
        "id": "bjwRzJSEk6qv"
      },
      "source": [
        "Q2."
      ]
    },
    {
      "cell_type": "code",
      "metadata": {
        "colab": {
          "base_uri": "https://localhost:8080/"
        },
        "id": "BUMPIyS9k8rE",
        "outputId": "0e7d7e4f-6625-4daf-de07-e29ab0f08ae5"
      },
      "source": [
        "def list_of_frequency(str):\r\n",
        "\tdict ={}\r\n",
        "\tfor n in str:\r\n",
        "\t\tkeys=dict.keys()\r\n",
        "\t\tif n in keys:\r\n",
        "\t\t\tdict[n]+=1\r\n",
        "\t\telse:\r\n",
        "\t\t\tdict[n]=1\r\n",
        "\treturn dict\r\n",
        "print(list_of_frequency('aysha'))"
      ],
      "execution_count": 10,
      "outputs": [
        {
          "output_type": "stream",
          "text": [
            "{'a': 2, 'y': 1, 's': 1, 'h': 1}\n"
          ],
          "name": "stdout"
        }
      ]
    },
    {
      "cell_type": "markdown",
      "metadata": {
        "id": "dH_lHnFVlGPu"
      },
      "source": [
        "Q3."
      ]
    },
    {
      "cell_type": "code",
      "metadata": {
        "colab": {
          "base_uri": "https://localhost:8080/"
        },
        "id": "GQKXeVFPlHe2",
        "outputId": "963b436a-882f-4e02-f292-a04c1a625a22"
      },
      "source": [
        "list = []\r\n",
        "n = int(input(\"Please enter the Total Number of List Elements: \"))\r\n",
        "for i in range(1, n + 1):\r\n",
        "    value = int(input(\"Please enter the Value of element:\"))\r\n",
        "    list.append(value)\r\n",
        "for i in range (n):\r\n",
        "    for j in range(i + 1, n):\r\n",
        "        if(list[i] >list[j]):\r\n",
        "            temp = list[i]\r\n",
        "            list[i] = list[j]\r\n",
        "            list[j] = temp\r\n",
        "print(\"Element After Sorting List in Ascending Order is : \", list)"
      ],
      "execution_count": 5,
      "outputs": [
        {
          "output_type": "stream",
          "text": [
            "Please enter the Total Number of List Elements: 4\n",
            "Please enter the Value of element:9\n",
            "Please enter the Value of element:3\n",
            "Please enter the Value of element:12\n",
            "Please enter the Value of element:6\n",
            "Element After Sorting List in Ascending Order is :  [3, 6, 9, 12]\n"
          ],
          "name": "stdout"
        }
      ]
    },
    {
      "cell_type": "markdown",
      "metadata": {
        "id": "aEB4AUbLloLN"
      },
      "source": [
        "Q4."
      ]
    },
    {
      "cell_type": "code",
      "metadata": {
        "colab": {
          "base_uri": "https://localhost:8080/"
        },
        "id": "1ECu5XNglqRf",
        "outputId": "2c845b10-ca87-44ea-d5d1-297d4283e7f2"
      },
      "source": [
        "\r\n",
        " \r\n",
        "def isPalindrome(s):\r\n",
        "    return s == s[::-1]\r\n",
        "s = \"malayalam\"\r\n",
        "ans = isPalindrome(s) \r\n",
        "if ans:\r\n",
        "    print(\"Yes\")\r\n",
        "else:\r\n",
        "    print(\"No\")"
      ],
      "execution_count": 6,
      "outputs": [
        {
          "output_type": "stream",
          "text": [
            "Yes\n"
          ],
          "name": "stdout"
        }
      ]
    },
    {
      "cell_type": "markdown",
      "metadata": {
        "id": "9MTvzPPmlx7a"
      },
      "source": [
        "Q5."
      ]
    },
    {
      "cell_type": "code",
      "metadata": {
        "colab": {
          "base_uri": "https://localhost:8080/"
        },
        "id": "JWYlMUlWl0-m",
        "outputId": "7396e171-212e-46a5-b24a-07954c1113ad"
      },
      "source": [
        "\r\n",
        "import math \r\n",
        "def cal_sin(n): \r\n",
        "    accuracy = 0.0001; \r\n",
        "    n = n * (math.pi / 180.0);  \r\n",
        "    x1 = n;\r\n",
        "    sinx = n;      \r\n",
        "    sinval = math.sin(n);  \r\n",
        "    i = 1; \r\n",
        "    while(True):\r\n",
        "        denominator = 2 * i * (2 * i + 1); \r\n",
        "        x1 = -x1 * n * n / denominator; \r\n",
        "        sinx = sinx + x1; \r\n",
        "        i = i + 1; \r\n",
        "        if(accuracy <= abs(sinval - sinx)): \r\n",
        "            break; \r\n",
        "    print(round(sinx)); \r\n",
        "n = 90; \r\n",
        "cal_sin(n);"
      ],
      "execution_count": 7,
      "outputs": [
        {
          "output_type": "stream",
          "text": [
            "1\n"
          ],
          "name": "stdout"
        }
      ]
    },
    {
      "cell_type": "markdown",
      "metadata": {
        "id": "gICbtOQol5fS"
      },
      "source": [
        "Q6.\r\n"
      ]
    },
    {
      "cell_type": "code",
      "metadata": {
        "id": "JKzUE2J7l7LW"
      },
      "source": [
        "password  = input(\" ENTER PASSWORD = \")\r\n",
        "c=0 \r\n",
        "c1=0\r\n",
        "c2=0\r\n",
        "c3 =0\r\n",
        "num = list(map(str,range(0,10)))\r\n",
        "if len(passW) < 6:\r\n",
        "   print(\"Password length too short. Minimum length of password should be 6\")\r\n",
        "else:\r\n",
        "  for i in passW:\r\n",
        "     if i.isupper() == True:\r\n",
        "        c +=1\r\n",
        "     elif i in num:\r\n",
        "        c1 +=1\r\n",
        "     elif i.islower() == True:\r\n",
        "        c2 +=1\r\n",
        "     elif i ==\"$\" or i ==\"#\" or i == \"@\":\r\n",
        "        c3 +=1\r\n",
        "if c >= 1 and c1 >= 1 and c2 >= 1 and c3>=1:\r\n",
        "    print(\"Password accepted\")\r\n",
        "else: \r\n",
        "    print(\"Password not accepted\")"
      ],
      "execution_count": null,
      "outputs": []
    }
  ]
}