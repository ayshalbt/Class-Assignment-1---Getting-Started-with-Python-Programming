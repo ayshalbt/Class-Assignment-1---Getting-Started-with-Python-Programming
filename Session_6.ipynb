{
  "nbformat": 4,
  "nbformat_minor": 0,
  "metadata": {
    "colab": {
      "name": " Session 6.ipynb",
      "provenance": [],
      "authorship_tag": "ABX9TyO2kbZt+oOiy9SekFwE8PsO",
      "include_colab_link": true
    },
    "kernelspec": {
      "name": "python3",
      "display_name": "Python 3"
    }
  },
  "cells": [
    {
      "cell_type": "markdown",
      "metadata": {
        "id": "view-in-github",
        "colab_type": "text"
      },
      "source": [
        "<a href=\"https://colab.research.google.com/github/ayshalbt/Class-Assignment-1---Getting-Started-with-Python-Programming/blob/master/Session_6.ipynb\" target=\"_parent\"><img src=\"https://colab.research.google.com/assets/colab-badge.svg\" alt=\"Open In Colab\"/></a>"
      ]
    },
    {
      "cell_type": "code",
      "metadata": {
        "colab": {
          "base_uri": "https://localhost:8080/"
        },
        "id": "-mZ0xgvpQ_ea",
        "outputId": "6cd8725c-3642-448b-c0da-8c8dd99e348e"
      },
      "source": [
        "#1a\r\n",
        "def filterFile(oldFile, newFile):\r\n",
        "  f1 = open(oldFile, \"r\")\r\n",
        "  f2 = open(newFile, \"w\")\r\n",
        "  while True:\r\n",
        "    text = f1.readline() \r\n",
        "    if text == \"\":\r\n",
        "      break\r\n",
        "    if text[0] == '#':\r\n",
        "      continue\r\n",
        "    f2.write(text)\r\n",
        "  f1.close()\r\n",
        "  f2.close()\r\n",
        "  return\r\n",
        "f = open(\"mydata.dat\",\"w\")\r\n",
        "f.write(\"First Line\\n\")\r\n",
        "f.write(\"#Second Line\\n\")\r\n",
        "f.write(\"Third Line\\n\")\r\n",
        "f.write(\"Fourth Line\\n\")\r\n",
        "f.close()\r\n",
        "\r\n",
        "filterFile(\"mydata.dat\",\"filterdata.dat\")\r\n",
        "\r\n",
        "f = open(\"mydata.dat\",\"r\")\r\n",
        "text = f.read()\r\n",
        "print(text)\r\n",
        "\r\n",
        "f = open(\"filterdata.dat\",\"r\")\r\n",
        "text = f.read()\r\n",
        "print(text)"
      ],
      "execution_count": null,
      "outputs": [
        {
          "output_type": "stream",
          "text": [
            "First Line\n",
            "#Second Line\n",
            "Third Line\n",
            "Fourth Line\n",
            "\n",
            "First Line\n",
            "Third Line\n",
            "Fourth Line\n",
            "\n"
          ],
          "name": "stdout"
        }
      ]
    },
    {
      "cell_type": "code",
      "metadata": {
        "colab": {
          "base_uri": "https://localhost:8080/"
        },
        "id": "7qrIk_sCRv6Y",
        "outputId": "b7b24d6a-fe42-43c8-b519-f99aebb719da"
      },
      "source": [
        "#1b\r\n",
        "def grade(myfile):\r\n",
        "  f1 = open(myfile, \"r\")\r\n",
        "  total_marks=0\r\n",
        "  while True:\r\n",
        "    text = f1.readline() \r\n",
        "    if text == \"\":\r\n",
        "      break\r\n",
        "    marks = text[-4:-1]\r\n",
        "    total_marks+=int(marks)\r\n",
        "    print(marks)\r\n",
        "  print(\"Total Marks:\",total_marks)  \r\n",
        "  print(\"Percentage:\",total_marks/500*100)\r\n",
        "  \r\n",
        "f = open(\"mygrade.dat\",\"w\")\r\n",
        "f.write(\"Phy\\t 85\\n\")\r\n",
        "f.write(\"Chem\\t 75\\n\")\r\n",
        "f.write(\"Maths\\t 95\\n\")\r\n",
        "f.write(\"Eng\\t 95\\n\")\r\n",
        "f.write(\"Bio\\t 95\\n\")\r\n",
        "f.close()\r\n",
        "f = open(\"mygrade.dat\",\"r\")\r\n",
        "text = f.read()\r\n",
        "print(text)\r\n",
        "grade('mygrade.dat')"
      ],
      "execution_count": null,
      "outputs": [
        {
          "output_type": "stream",
          "text": [
            "Phy\t 85\n",
            "Chem\t 75\n",
            "Maths\t 95\n",
            "Eng\t 95\n",
            "Bio\t 95\n",
            "\n",
            " 85\n",
            " 75\n",
            " 95\n",
            " 95\n",
            " 95\n",
            "Total Marks: 445\n",
            "Percentage: 89.0\n"
          ],
          "name": "stdout"
        }
      ]
    },
    {
      "cell_type": "code",
      "metadata": {
        "colab": {
          "base_uri": "https://localhost:8080/"
        },
        "id": "sX1Z-MP9Si_2",
        "outputId": "2e32cd30-635f-41ca-8c89-34cc92a0c180"
      },
      "source": [
        "#2a\r\n",
        "import string\r\n",
        "f = open(\"words1.txt\", \"w\")\r\n",
        "def lettersinline(n):\r\n",
        "       alphabet = string.ascii_uppercase\r\n",
        "       print(alphabet)\r\n",
        "       for i in range(0, len(alphabet),n):\r\n",
        "        letters = alphabet[i:i + n]\r\n",
        "        f.write(letters)\r\n",
        "        f.write(\"\\n\")\r\n",
        "lettersinline(4)\r\n",
        "f = open(\"words1.txt\",\"r\")\r\n",
        "text = f.read()\r\n",
        "print(text)"
      ],
      "execution_count": null,
      "outputs": [
        {
          "output_type": "stream",
          "text": [
            "ABCDEFGHIJKLMNOPQRSTUVWXYZ\n",
            "ABCD\n",
            "EFGH\n",
            "IJKL\n",
            "MNOP\n",
            "QRST\n",
            "UVWX\n",
            "YZ\n",
            "\n"
          ],
          "name": "stdout"
        }
      ]
    },
    {
      "cell_type": "code",
      "metadata": {
        "colab": {
          "base_uri": "https://localhost:8080/"
        },
        "id": "wY3UHDaOStJB",
        "outputId": "64eb62e0-b74e-4553-8b11-1340e4c2afb9"
      },
      "source": [
        "#2b\r\n",
        "def savetolist(myfile):  \r\n",
        "  f1 = open(myfile, \"r\")\r\n",
        "  mylist=[]\r\n",
        "  while True:\r\n",
        "    text = f1.readline() \r\n",
        "    if text == \"\":\r\n",
        "      break\r\n",
        "    text=text[:-1] \r\n",
        "    mylist.append(text)\r\n",
        "  f1.close()\r\n",
        "  return mylist\r\n",
        "f = open(\"mydata.dat\",\"w\")\r\n",
        "f.write(\"pen\\n\")\r\n",
        "f.write(\"pencil\\n\")\r\n",
        "f.write(\"eraser\\n\")\r\n",
        "f.write(\"scale\\n\")\r\n",
        "f.write(\"calculator\\n\")\r\n",
        "f.close()\r\n",
        "f = open(\"mydata.dat\",\"r\")\r\n",
        "text = f.read()\r\n",
        "print(text)\r\n",
        "savetolist(\"mydata.dat\")"
      ],
      "execution_count": null,
      "outputs": [
        {
          "output_type": "stream",
          "text": [
            "pen\n",
            "pencil\n",
            "eraser\n",
            "scale\n",
            "calculator\n",
            "\n"
          ],
          "name": "stdout"
        },
        {
          "output_type": "execute_result",
          "data": {
            "text/plain": [
              "['pen', 'pencil', 'eraser', 'scale', 'calculator']"
            ]
          },
          "metadata": {
            "tags": []
          },
          "execution_count": 4
        }
      ]
    }
  ]
}