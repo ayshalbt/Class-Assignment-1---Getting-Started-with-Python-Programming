{
  "nbformat": 4,
  "nbformat_minor": 0,
  "metadata": {
    "colab": {
      "name": "Session 7.ipynb",
      "provenance": [],
      "authorship_tag": "ABX9TyP5Vdc+O6FMrR3LixHkOWF1",
      "include_colab_link": true
    },
    "kernelspec": {
      "name": "python3",
      "display_name": "Python 3"
    }
  },
  "cells": [
    {
      "cell_type": "markdown",
      "metadata": {
        "id": "view-in-github",
        "colab_type": "text"
      },
      "source": [
        "<a href=\"https://colab.research.google.com/github/ayshalbt/Class-Assignment-1---Getting-Started-with-Python-Programming/blob/master/Session_7.ipynb\" target=\"_parent\"><img src=\"https://colab.research.google.com/assets/colab-badge.svg\" alt=\"Open In Colab\"/></a>"
      ]
    },
    {
      "cell_type": "code",
      "metadata": {
        "colab": {
          "base_uri": "https://localhost:8080/"
        },
        "id": "-CBBOP7_bZad",
        "outputId": "638ec219-5ddc-4f86-c9f3-6923d3331e81"
      },
      "source": [
        "#3a\r\n",
        "f = open(\"text.dat\",\"w\")\r\n",
        "m = \"Its a sunny day\"\r\n",
        "m1 = \" It's a good day \"\r\n",
        "m2 = \"Good Morning\"\r\n",
        "f.write(m)\r\n",
        "f.write(m1)\r\n",
        "f = open(\"text.dat\",\"r\")\r\n",
        "n1 = f.read()\r\n",
        "n = n1.replace(m,m2)\r\n",
        "print(n)\r\n",
        "f = open(\"text.dat\",\"w\")\r\n",
        "f.write(n)"
      ],
      "execution_count": 3,
      "outputs": [
        {
          "output_type": "stream",
          "text": [
            "Good Morning It's a good day \n"
          ],
          "name": "stdout"
        },
        {
          "output_type": "execute_result",
          "data": {
            "text/plain": [
              "29"
            ]
          },
          "metadata": {
            "tags": []
          },
          "execution_count": 3
        }
      ]
    },
    {
      "cell_type": "code",
      "metadata": {
        "colab": {
          "base_uri": "https://localhost:8080/"
        },
        "id": "cwj3U27ibsBs",
        "outputId": "7255f46f-5db4-4696-942f-c7cccbbfeee4"
      },
      "source": [
        "#3b\r\n",
        "f1 = open(\"text.dat\",\"w\")\r\n",
        "f1.write(\"problem solving with python\")\r\n",
        "f1 = open(\"text.dat\",\"r\")\r\n",
        "m = f1.read()\r\n",
        "f2 = open(\"text2.dat\",\"w\")\r\n",
        "f2.write(\"\\nis a subject for CS department.\")\r\n",
        "f2 = open(\"text2.dat\",\"r\")\r\n",
        "n = f2.read()\r\n",
        "a = m + n\r\n",
        "f = open(\"new.dat\",\"w\")\r\n",
        "f.write(a)\r\n",
        "f = open(\"new.dat\",\"r\")\r\n",
        "print(f.read())"
      ],
      "execution_count": 2,
      "outputs": [
        {
          "output_type": "stream",
          "text": [
            "problem solving with python\n",
            "is a subject for CS department.\n"
          ],
          "name": "stdout"
        }
      ]
    },
    {
      "cell_type": "code",
      "metadata": {
        "colab": {
          "base_uri": "https://localhost:8080/"
        },
        "id": "189SJg9Zb9QH",
        "outputId": "c7c6d7a0-c852-42dd-b093-bf3b81305ecc"
      },
      "source": [
        "#4a\r\n",
        "f = open(\"text.dat\",\"w\")\r\n",
        "f.write(\"Hello good morning.\")\r\n",
        "f.write(\"\\nHow are you?\")\r\n",
        "f.close()\r\n",
        "f = open(\"text.dat\",\"r\")\r\n",
        "a =0\r\n",
        "for line in f:\r\n",
        "   a+=1\r\n",
        "print(\"number of lines = \",a)"
      ],
      "execution_count": 4,
      "outputs": [
        {
          "output_type": "stream",
          "text": [
            "number of lines =  2\n"
          ],
          "name": "stdout"
        }
      ]
    },
    {
      "cell_type": "code",
      "metadata": {
        "colab": {
          "base_uri": "https://localhost:8080/"
        },
        "id": "m2HsZxgxb_2r",
        "outputId": "10052c84-b6c6-4d14-bcf4-ce4509f01271"
      },
      "source": [
        "#4b\r\n",
        "f = open(\"txt.dat\",\"w\")\r\n",
        "word = \"pen pencil kite pen eraser pencil pen kite pen scale pencil\"\r\n",
        "f.write(word)\r\n",
        "f = open(\"txt.dat\",\"r\")\r\n",
        "c = f.read()\r\n",
        "c = c.split(\" \")\r\n",
        "word1 =[]\r\n",
        "for i in c:\r\n",
        "  if i not in word1:\r\n",
        "     word1.append(i)\r\n",
        "for i in range(0,len(word1)):\r\n",
        "   print(\" Frequency of the \",word1[i],\" is \",c.count(word1[i]))"
      ],
      "execution_count": 5,
      "outputs": [
        {
          "output_type": "stream",
          "text": [
            " Frequency of the  pen  is  4\n",
            " Frequency of the  pencil  is  3\n",
            " Frequency of the  kite  is  2\n",
            " Frequency of the  eraser  is  1\n",
            " Frequency of the  scale  is  1\n"
          ],
          "name": "stdout"
        }
      ]
    }
  ]
}