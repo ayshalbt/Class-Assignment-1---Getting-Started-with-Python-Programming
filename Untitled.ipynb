{
  "nbformat": 4,
  "nbformat_minor": 0,
  "metadata": {
    "colab": {
      "name": "Untitled",
      "provenance": [],
      "authorship_tag": "ABX9TyNgGgZE1u+H6mBI2f8eD+Pl",
      "include_colab_link": true
    },
    "kernelspec": {
      "name": "python3",
      "display_name": "Python 3"
    }
  },
  "cells": [
    {
      "cell_type": "markdown",
      "metadata": {
        "id": "view-in-github",
        "colab_type": "text"
      },
      "source": [
        "<a href=\"https://colab.research.google.com/github/ayshalbt/Class-Assignment-1---Getting-Started-with-Python-Programming/blob/master/Untitled.ipynb\" target=\"_parent\"><img src=\"https://colab.research.google.com/assets/colab-badge.svg\" alt=\"Open In Colab\"/></a>"
      ]
    },
    {
      "cell_type": "code",
      "metadata": {
        "id": "KjJBJ1e-K-so"
      },
      "source": [
        "class Numbers():\n",
        "    num=int()\n",
        "    sum_of_num=int()\n",
        "    def __init__(self):\n",
        "        self.num=0\n",
        "        self.sum_of_num=0\n",
        "\n",
        "    def num_input(self):\n",
        "        num = input(\"ENTER THE NUMBER:\")\n",
        "        self.digit_sum(num)\n",
        "\n",
        "    def digit_sum(self,num):\n",
        "        sum_of_num=int(num)\n",
        "        while int(sum_of_num) > 10:\n",
        "            ls_dig = [int(x) for x in str(sum_of_num)]\n",
        "            sum_of_num=sum(ls_dig)\n",
        "            self.num_output(sum_of_num)\n",
        "\n",
        "    def num_output(self,sum_of_num):\n",
        "        print(\"SUM OF DIGITS:\",sum_of_num)\n",
        "\n",
        "p=Numbers()\n",
        "p.num_input()"
      ],
      "execution_count": null,
      "outputs": []
    }
  ]
}