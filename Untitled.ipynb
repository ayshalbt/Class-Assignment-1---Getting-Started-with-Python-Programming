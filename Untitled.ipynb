{
  "nbformat": 4,
  "nbformat_minor": 0,
  "metadata": {
    "colab": {
      "name": "Untitled",
      "provenance": [],
      "collapsed_sections": [],
      "authorship_tag": "ABX9TyMTftnPKFwC7+PlrEG6jjcs",
      "include_colab_link": true
    },
    "kernelspec": {
      "name": "python3",
      "display_name": "Python 3"
    }
  },
  "cells": [
    {
      "cell_type": "markdown",
      "metadata": {
        "id": "view-in-github",
        "colab_type": "text"
      },
      "source": [
        "<a href=\"https://colab.research.google.com/github/ayshalbt/Class-Assignment-1---Getting-Started-with-Python-Programming/blob/master/Untitled.ipynb\" target=\"_parent\"><img src=\"https://colab.research.google.com/assets/colab-badge.svg\" alt=\"Open In Colab\"/></a>"
      ]
    },
    {
      "cell_type": "code",
      "metadata": {
        "id": "KjJBJ1e-K-so"
      },
      "source": [
        "class Numbers():\n",
        "    num=int()\n",
        "    sum_of_num=int()\n",
        "    def __init__(self):\n",
        "        self.num=0\n",
        "        self.sum_of_num=0\n",
        "\n",
        "    def num_input(self):\n",
        "        num = input(\"ENTER THE NUMBER:\")\n",
        "        self.digit_sum(num)\n",
        "\n",
        "    def digit_sum(self,num):\n",
        "        sum_of_num=int(num)\n",
        "        while int(sum_of_num) > 10:\n",
        "            ls_dig = [int(x) for x in str(sum_of_num)]\n",
        "            sum_of_num=sum(ls_dig)\n",
        "            self.num_output(sum_of_num)\n",
        "\n",
        "    def num_output(self,sum_of_num):\n",
        "        print(\"SUM OF DIGITS:\",sum_of_num)\n",
        "\n",
        "p=Numbers()\n",
        "p.num_input()"
      ],
      "execution_count": null,
      "outputs": []
    },
    {
      "cell_type": "markdown",
      "metadata": {
        "id": "1QAb6RjlaNJe"
      },
      "source": [
        "Q2."
      ]
    },
    {
      "cell_type": "code",
      "metadata": {
        "id": "EJkWRorqaQBa"
      },
      "source": [
        "class Polygon:\n",
        "    def __init__(self,number,name):\n",
        "        self.number = number\n",
        "        self.name=name\n",
        "        self.sides=[]\n",
        "    def inputSides(self):\n",
        "        print(self.name)\n",
        "        for i in range(0,self.number):\n",
        "            ele=float(input(\"Enter side \"+str(i+1)+\" : \"))\n",
        "            self.sides.append(ele)\n",
        "class Triangle(Polygon):\n",
        "    def __init__(self):\n",
        "        Polygon.__init__(self, 3 ,\"TRIANGLE :\")\n",
        "\n",
        "    def triArea(self):\n",
        "        a, b, c = self.sides\n",
        "        s = (a + b + c) / 2\n",
        "        area = (s*(s-a)*(s-b)*(s-c)) ** 0.5\n",
        "        print(\"The area of the triangle is : %0.2f  \" % area)\n",
        "\n",
        "class Square(Polygon):\n",
        "\n",
        "    def __init__(self):\n",
        "        Polygon.__init__(self, 2, \"SQUARE :\")\n",
        "    \n",
        "    def sqArea(self):\n",
        "        a, b = self.sides\n",
        "        area=a**2\n",
        "        print(\"The area of square is : %0.2f  \" % area)\n",
        "\n",
        "\n",
        "ob = Triangle()\n",
        "ob.inputSides()\n",
        "ob.triArea()\n",
        "ob1 = Square()\n",
        "ob1.inputSides()\n",
        "ob1.sqArea()"
      ],
      "execution_count": null,
      "outputs": []
    }
  ]
}