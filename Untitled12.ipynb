{
  "nbformat": 4,
  "nbformat_minor": 0,
  "metadata": {
    "colab": {
      "name": "Untitled12.ipynb",
      "provenance": [],
      "authorship_tag": "ABX9TyM/IeKEHAiw4u+s0GipOr5e",
      "include_colab_link": true
    },
    "kernelspec": {
      "name": "python3",
      "display_name": "Python 3"
    }
  },
  "cells": [
    {
      "cell_type": "markdown",
      "metadata": {
        "id": "view-in-github",
        "colab_type": "text"
      },
      "source": [
        "<a href=\"https://colab.research.google.com/github/ayshalbt/Class-Assignment-1---Getting-Started-with-Python-Programming/blob/master/Untitled12.ipynb\" target=\"_parent\"><img src=\"https://colab.research.google.com/assets/colab-badge.svg\" alt=\"Open In Colab\"/></a>"
      ]
    },
    {
      "cell_type": "code",
      "metadata": {
        "colab": {
          "base_uri": "https://localhost:8080/"
        },
        "id": "qBa-4asoQIkI",
        "outputId": "66f07eb7-d826-4917-83a0-4e11d1f9133b"
      },
      "source": [
        "class Cat:\n",
        "    def __init__(self, name, age):\n",
        "        self.name = name\n",
        "        self.age = age\n",
        "\n",
        "    def info(self):\n",
        "        print(f\"I am a cat. My name is {self.name}. I am {self.age} years old.\")\n",
        "\n",
        "    def make_sound(self):\n",
        "        print(\"makes sound Meow\")\n",
        "\n",
        "\n",
        "class Dog:\n",
        "    def __init__(self, name, age):\n",
        "        self.name = name\n",
        "        self.age = age\n",
        "\n",
        "    def info(self):\n",
        "        print(f\"I am a dog. My name is {self.name}. I am {self.age} years old.\")\n",
        "\n",
        "    def make_sound(self):\n",
        "        print(\"makes sound Bark\")\n",
        "\n",
        "\n",
        "cat1 = Cat(\"Ginger\", 2)\n",
        "dog1 = Dog(\"Toffy\", 3)\n",
        "\n",
        "for animal in (cat1, dog1):\n",
        "    animal.make_sound()\n",
        "    animal.info()"
      ],
      "execution_count": 21,
      "outputs": [
        {
          "output_type": "stream",
          "text": [
            "makes sound Meow\n",
            "I am a cat. My name is Ginger. I am 2 years old.\n",
            "makes sound Bark\n",
            "I am a dog. My name is Toffy. I am 3 years old.\n"
          ],
          "name": "stdout"
        }
      ]
    },
    {
      "cell_type": "code",
      "metadata": {
        "colab": {
          "base_uri": "https://localhost:8080/"
        },
        "id": "nq29HefcQwSa",
        "outputId": "152723ef-328b-4470-92f3-49d0cac6e505"
      },
      "source": [
        "from math import pi\n",
        "class Shape:\n",
        "   def __init__(self, name):\n",
        "          self.name=name\n",
        "class Square(Shape):\n",
        "   def __init__(self,length):\n",
        "         super(). __init__(\"Square\")\n",
        "         self.length =length\n",
        "   def area(self):\n",
        "         return self.length *self.length\n",
        "   def fact(self):\n",
        "         return \"All four sides are equal.\"\n",
        "class Circle(Shape):\n",
        "   def __init__(self, radius):\n",
        "        super().__init__(\"Circle\")\n",
        "        self.radius =radius\n",
        "   def area(self):\n",
        "          return self.radius**2*pi\n",
        "a=Square(4)\n",
        "b=Circle(5)\n",
        "print(a)\n",
        "print(b)\n",
        "print(a.area())\n",
        "print(b.area())\n",
        "print(a.fact())"
      ],
      "execution_count": 24,
      "outputs": [
        {
          "output_type": "stream",
          "text": [
            "<__main__.Square object at 0x7fac22aafe10>\n",
            "<__main__.Circle object at 0x7fac22aaf518>\n",
            "16\n",
            "78.53981633974483\n",
            "All four sides are equal.\n"
          ],
          "name": "stdout"
        }
      ]
    }
  ]
}