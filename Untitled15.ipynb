{
  "nbformat": 4,
  "nbformat_minor": 0,
  "metadata": {
    "colab": {
      "name": "Untitled15.ipynb",
      "provenance": [],
      "authorship_tag": "ABX9TyNS0MO9cS/gPqKDsyflHhD5",
      "include_colab_link": true
    },
    "kernelspec": {
      "name": "python3",
      "display_name": "Python 3"
    }
  },
  "cells": [
    {
      "cell_type": "markdown",
      "metadata": {
        "id": "view-in-github",
        "colab_type": "text"
      },
      "source": [
        "<a href=\"https://colab.research.google.com/github/ayshalbt/Class-Assignment-1---Getting-Started-with-Python-Programming/blob/master/Untitled15.ipynb\" target=\"_parent\"><img src=\"https://colab.research.google.com/assets/colab-badge.svg\" alt=\"Open In Colab\"/></a>"
      ]
    },
    {
      "cell_type": "code",
      "metadata": {
        "colab": {
          "base_uri": "https://localhost:8080/"
        },
        "id": "YUo6HTnqcIGZ",
        "outputId": "8b777205-49df-4428-a93b-fbb4026c226f"
      },
      "source": [
        "#Q1\r\n",
        "def checkLeapYear(year):\r\n",
        "    if (year % 4) == 0:\r\n",
        "        if (year % 100) == 0:\r\n",
        "            if (year % 400) == 0:\r\n",
        "                return True\r\n",
        "            else:\r\n",
        "                return False\r\n",
        "        else:\r\n",
        "             return True\r\n",
        "    else:\r\n",
        "        return False \r\n",
        "year = 2020\r\n",
        "if (checkLeapYear(year)):\r\n",
        "    print(year,\"is a Leap Year\")\r\n",
        "else:\r\n",
        "    print(year,\"is not a Leap Year\")"
      ],
      "execution_count": 1,
      "outputs": [
        {
          "output_type": "stream",
          "text": [
            "2020 is a Leap Year\n"
          ],
          "name": "stdout"
        }
      ]
    },
    {
      "cell_type": "code",
      "metadata": {
        "colab": {
          "base_uri": "https://localhost:8080/"
        },
        "id": "BEfO7J-RcQQX",
        "outputId": "c40981c3-d012-4a9d-95b3-9faa31748f74"
      },
      "source": [
        "#2\r\n",
        " \r\n",
        "A = [[1,2,3], [4,5,6], [7,8,9]]  \r\n",
        "B = [[10,11,12], [13,14,15], [16,17,18]]  \r\n",
        "result = [[0,0,0], [0,0,0], [0,0,0]]  \r\n",
        "for i in range(len(A)):  \r\n",
        "   for j in range(len(A[0])):         \r\n",
        "       result[i][j] = A[i][j]+B[i][j]  \r\n",
        "print(\"Matrix A + Matrix B is\")\r\n",
        "for k in result:    \r\n",
        "   print(k)"
      ],
      "execution_count": 2,
      "outputs": [
        {
          "output_type": "stream",
          "text": [
            "Matrix A + Matrix B is\n",
            "[11, 13, 15]\n",
            "[17, 19, 21]\n",
            "[23, 25, 27]\n"
          ],
          "name": "stdout"
        }
      ]
    },
    {
      "cell_type": "code",
      "metadata": {
        "colab": {
          "base_uri": "https://localhost:8080/"
        },
        "id": "QzHnPzFbcZhq",
        "outputId": "59247ac6-b697-4129-b13d-f793fc726880"
      },
      "source": [
        "#Q3\r\n",
        "string = input(\"Enter a string:\")\r\n",
        "revstring = string[::-1]\r\n",
        "print(\"Reversed string is \",revstring)\r\n",
        "if(revstring == string):\r\n",
        "  print(\"This is a palindrome string\")\r\n",
        "else:\r\n",
        "  print(\"This is not a palindrome string\")"
      ],
      "execution_count": 3,
      "outputs": [
        {
          "output_type": "stream",
          "text": [
            "Enter a string:malayalam\n",
            "Reversed string is  malayalam\n",
            "This is a palindrome string\n"
          ],
          "name": "stdout"
        }
      ]
    },
    {
      "cell_type": "code",
      "metadata": {
        "id": "se3B5vdVcq8I"
      },
      "source": [
        "#Q4\r\n",
        "list1 = [] \r\n",
        "num = int(input(\"Enter the number of elements in list: \"))\r\n",
        "for i in range(1, num + 1): \r\n",
        "    ele = int(input(\"Enter the elements: \")) \r\n",
        "    list1.append(ele)\r\n",
        "print(\"Largest element is:\", max(list1))"
      ],
      "execution_count": null,
      "outputs": []
    },
    {
      "cell_type": "code",
      "metadata": {
        "id": "VTE6LjQxc9LI"
      },
      "source": [
        "#Q4\r\n",
        "list1=[1,2,3,4,5]\r\n",
        "list2=[1,2,3,6,7]\r\n",
        "for x in list1:\r\n",
        "  for y in list2:\r\n",
        "     if x==y:\r\n",
        "        print(x)"
      ],
      "execution_count": null,
      "outputs": []
    },
    {
      "cell_type": "code",
      "metadata": {
        "id": "tL_yoSOidFIl"
      },
      "source": [
        "#Q5\r\n",
        "import itertools\r\n",
        "list1 = [3,6,9]\r\n",
        "permutations_object = itertools.permutations(list1)\r\n",
        "permutations_list = list(permutations_object)\r\n",
        "print(permutations_list)"
      ],
      "execution_count": null,
      "outputs": []
    },
    {
      "cell_type": "code",
      "metadata": {
        "id": "x5JK7NEAesli"
      },
      "source": [
        "#Q6\r\n",
        "import itertools\r\n",
        "list1 = [3,6,9]\r\n",
        "permutations_object = itertools.permutations(list1)\r\n",
        "permutations_list = list(permutations_object)\r\n",
        "print(permutations_list)"
      ],
      "execution_count": null,
      "outputs": []
    }
  ]
}