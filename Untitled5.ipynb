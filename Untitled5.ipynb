{
  "nbformat": 4,
  "nbformat_minor": 0,
  "metadata": {
    "colab": {
      "name": "Untitled5.ipynb",
      "provenance": [],
      "authorship_tag": "ABX9TyMA7DyFBLp2fCQjZXiFtm5z",
      "include_colab_link": true
    },
    "kernelspec": {
      "name": "python3",
      "display_name": "Python 3"
    }
  },
  "cells": [
    {
      "cell_type": "markdown",
      "metadata": {
        "id": "view-in-github",
        "colab_type": "text"
      },
      "source": [
        "<a href=\"https://colab.research.google.com/github/ayshalbt/Class-Assignment-1---Getting-Started-with-Python-Programming/blob/master/Untitled5.ipynb\" target=\"_parent\"><img src=\"https://colab.research.google.com/assets/colab-badge.svg\" alt=\"Open In Colab\"/></a>"
      ]
    },
    {
      "cell_type": "code",
      "metadata": {
        "colab": {
          "base_uri": "https://localhost:8080/"
        },
        "id": "keU3cuC8BcJq",
        "outputId": "9a360ed0-ad50-4952-c72e-e971f29e58a8"
      },
      "source": [
        "class Circle():\n",
        "    def __init__(self, r):\n",
        "        self.radius = r\n",
        "\n",
        "    def area(self):\n",
        "        return self.radius**2*3.14\n",
        "    \n",
        "    def perimeter(self):\n",
        "        return 2*self.radius*3.14\n",
        "\n",
        "NewCircle = Circle(6)\n",
        "print(NewCircle.area())\n",
        "print(NewCircle.perimeter())"
      ],
      "execution_count": 5,
      "outputs": [
        {
          "output_type": "stream",
          "text": [
            "113.04\n",
            "37.68\n"
          ],
          "name": "stdout"
        }
      ]
    },
    {
      "cell_type": "code",
      "metadata": {
        "id": "eT9379pkK550"
      },
      "source": [
        "class RECTANGLE():\n",
        "    def __init__(self,height,width,x,y):\n",
        "        self.height = height\n",
        "        self.width  = width\n",
        "        self.corner_x = x\n",
        "        self.corner_y = y\n",
        "\n",
        "    def rec_center(self):\n",
        "        cx = (self.corner_x+self.width)/2\n",
        "        cy = (self.corner_y+self.height)/2\n",
        "        return [cx,cy]\n",
        "\n",
        "    def rec_area(self):\n",
        "        return self.height*self.width\n",
        "    \n",
        "    def rec_perimeter(self):\n",
        "        return 2*(self.height + self.width)\n",
        "\n",
        "h = int(input(\"Enter the height of rectangle: \"))\n",
        "w = int(input(\"Enter the width of rectangle: \"))\n",
        "x = int(input(\"Enter the first corner:\"))\n",
        "y = int(input(\"Enter the second corner: \"))\n",
        "obj = RECTANGLE(h,w,x,y)\n",
        "print(\"Center of rectangle is \",obj.rec_center())\n",
        "print(\"Area of rectangle is \",round(obj.rec_area(),2))\n",
        "print(\"Perimeter of rectangle is \",round(obj.rec_perimeter(),2))"
      ],
      "execution_count": null,
      "outputs": []
    }
  ]
}