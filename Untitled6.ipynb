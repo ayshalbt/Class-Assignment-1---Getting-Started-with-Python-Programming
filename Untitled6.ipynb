{
  "nbformat": 4,
  "nbformat_minor": 0,
  "metadata": {
    "colab": {
      "name": "Untitled6.ipynb",
      "provenance": [],
      "toc_visible": true,
      "authorship_tag": "ABX9TyM6oAMbie0OPIYCcfIrFovs",
      "include_colab_link": true
    },
    "kernelspec": {
      "name": "python3",
      "display_name": "Python 3"
    }
  },
  "cells": [
    {
      "cell_type": "markdown",
      "metadata": {
        "id": "view-in-github",
        "colab_type": "text"
      },
      "source": [
        "<a href=\"https://colab.research.google.com/github/ayshalbt/Class-Assignment-1---Getting-Started-with-Python-Programming/blob/master/Untitled6.ipynb\" target=\"_parent\"><img src=\"https://colab.research.google.com/assets/colab-badge.svg\" alt=\"Open In Colab\"/></a>"
      ]
    },
    {
      "cell_type": "markdown",
      "metadata": {
        "id": "VXV0Fom8rOj2"
      },
      "source": [
        "1. Write a program to read numbers sorted in one file and store the sorted numbers in another file after deleting duplicates"
      ]
    },
    {
      "cell_type": "code",
      "metadata": {
        "id": "NZWL57UTrWWl"
      },
      "source": [
        "file1 = open(\"C:\\\\Users\\\\Aysha\\\\Documents\\\\file1.txt\",\"w\")\n",
        "file1.write(\"%d %d %d %d %d %d\" (9,7,1,4,2,7))\n",
        " \n",
        "file1.close()\n",
        "file1 = open(\"C:\\\\Users\\\\Aysha\\\\Documents\\\\file1.txt\",\"r\")\n",
        "a = file1.readline()\n",
        "a = a.split(\" \")\n",
        "b =[int(i) for i in a]\n",
        "b.sort()\n",
        "j =[]\n",
        "for n in b:\n",
        "    if n not in m:\n",
        "        m.append(n)\n",
        "file1.close()\n",
        "file1 = open(\"C:\\\\Users\\\\Aysha\\\\Documents\\\\file1.txt\",\"w\")\n",
        "file1.write(m)\n",
        "file1.close()\n",
        "file1 = open(\"C:\\\\Users\\\\Aysha\\\\Documents\\\\file1.txt\",\"r\")\n",
        "p = ','.join(str(o) for o in m)\n",
        "file1.close()\n",
        "file1 = open(\"C:\\\\Users\\\\Aysha\\\\Documents\\\\file1.txt\",\"w\")\n",
        "file1.write(p)\n",
        " \n",
        "file1.close()\n",
        "def copyFile(oldFile, newFile):\n",
        "  f1 = open(oldFile, \"r\")\n",
        "  f2 = open(newFile, \"w\")\n",
        "  while True:\n",
        "    text = f1.read(50) \n",
        "    if text == \"\":\n",
        "      break\n",
        "    f2.write(text)\n",
        "  f1.close()\n",
        "  f2.close()\n",
        "  return"
      ],
      "execution_count": null,
      "outputs": []
    },
    {
      "cell_type": "markdown",
      "metadata": {
        "id": "1vOcyQuLqrwo"
      },
      "source": [
        "2. write a python code to read a text file, copy the contents to another file after removing the blank lines.\n",
        " "
      ]
    },
    {
      "cell_type": "code",
      "metadata": {
        "id": "85ElTdYtq9-8"
      },
      "source": [
        "file1 = open(\"C:\\\\Users\\\\Aysha\\\\Documents\\\\file1.txt\",\"w\")\n",
        "file1.write(\"line1 \\n\\n line2\")\n",
        "file1.close()\n",
        "file1 = open(\"C:\\\\Users\\\\Aysha\\\\Documents\\\\file1.txt\",\"r\")\n",
        "str = file1.read()\n",
        "str1 = str.replace(\"\\n\\n\",\"\")\n",
        "print(str)\n",
        "line1\n",
        "line2\n",
        "print(str1)\n",
        "line1 line2\n",
        "file1.close()\n",
        "file1 = open(\"C:\\\\Users\\\\Aysha\\\\Documents\\\\file1.txt\",\"w\")\n",
        "file1.write(str1)\n",
        " \n",
        "file1.close()\n",
        "def copyFile(oldFile, newFile):\n",
        "  f1 = open(oldFile, \"r\")\n",
        "  f2 = open(newFile, \"w\")\n",
        "  while True:\n",
        "    text = f1.read(50)\n",
        "    if text == \"\":\n",
        "      break\n",
        "    f2.write(text)\n",
        "  f1.close()\n",
        "  f2.close()\n",
        "  return\n",
        " \n",
        "copyFile(\"C:\\\\Users\\\\Aysha\\\\Documents\\\\file1.txt\",\"C:\\\\Users\\\\Aysha\\\\Documents\\\\file2.txt\")\n",
        "file2 = open(\"C:\\\\Users\\\\Aysha\\\\Documents\\\\file2.txt\",\"r\")\n",
        "print(file2.read())\n",
        "line1 line2"
      ],
      "execution_count": null,
      "outputs": []
    }
  ]
}