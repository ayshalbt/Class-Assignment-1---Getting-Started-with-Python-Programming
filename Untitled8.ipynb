{
  "nbformat": 4,
  "nbformat_minor": 0,
  "metadata": {
    "colab": {
      "name": "Untitled8.ipynb",
      "provenance": [],
      "authorship_tag": "ABX9TyMo/ijAF5P6xmv6ll4Od8aq",
      "include_colab_link": true
    },
    "kernelspec": {
      "name": "python3",
      "display_name": "Python 3"
    }
  },
  "cells": [
    {
      "cell_type": "markdown",
      "metadata": {
        "id": "view-in-github",
        "colab_type": "text"
      },
      "source": [
        "<a href=\"https://colab.research.google.com/github/ayshalbt/Class-Assignment-1---Getting-Started-with-Python-Programming/blob/master/Untitled8.ipynb\" target=\"_parent\"><img src=\"https://colab.research.google.com/assets/colab-badge.svg\" alt=\"Open In Colab\"/></a>"
      ]
    },
    {
      "cell_type": "code",
      "metadata": {
        "colab": {
          "base_uri": "https://localhost:8080/"
        },
        "id": "IKATaVl_Uo0C",
        "outputId": "b0f02d32-fc55-4bf8-a524-7fdf5563e613"
      },
      "source": [
        "#Write a Python program to check whether a list contains a sublist\r\n",
        "def sublist(l,s):\r\n",
        "    sub_set = False\r\n",
        "    if s == []:\r\n",
        "        sub_set = True\r\n",
        "    elif s == l:\r\n",
        "        sub_set = True\r\n",
        "    elif len(s) > len(l):\r\n",
        "        sub_set = False\r\n",
        "    else:\r\n",
        "        for i in range(len(l)):\r\n",
        "            if l[i] == s[0]:\r\n",
        "                n = 1\r\n",
        "                while (n < len(s)) and (l[i+n] == s[n]):\r\n",
        "                    n += 1              \r\n",
        "                if n == len(s):\r\n",
        "                    sub_set = True\r\n",
        "    return sub_set\r\n",
        "a = [2,6,7,8,9,12,16]\r\n",
        "b = [9,12]\r\n",
        "print(sublist(a,b))"
      ],
      "execution_count": 1,
      "outputs": [
        {
          "output_type": "stream",
          "text": [
            "True\n"
          ],
          "name": "stdout"
        }
      ]
    },
    {
      "cell_type": "code",
      "metadata": {
        "colab": {
          "base_uri": "https://localhost:8080/"
        },
        "id": "eddAaGw7U1fD",
        "outputId": "a9915fad-c3df-42ab-83d5-6306cf29ec96"
      },
      "source": [
        "#Q9\r\n",
        "#Write a Python program to get the frequency of the elements in a list\r\n",
        "import collections\r\n",
        "mylist = [7,7,7,2,2,2,7,7,9,9,9,2]\r\n",
        "ctr = collections.Counter(mylist)\r\n",
        "print(\"Frequency of the elements in the list: \",ctr)"
      ],
      "execution_count": 4,
      "outputs": [
        {
          "output_type": "stream",
          "text": [
            "Frequency of the elements in the list:  Counter({7: 5, 2: 4, 9: 3})\n"
          ],
          "name": "stdout"
        }
      ]
    },
    {
      "cell_type": "code",
      "metadata": {
        "id": "qHIsvm8gVDHO"
      },
      "source": [
        "#Q10\r\n",
        "#Write a python program to find second largest number in a list\r\n",
        "list = []\r\n",
        "n = int(input(\"Enter the number of elements in the list: \"))\r\n",
        "for i in range(1, n + 1):\r\n",
        "    ele = int(input(\"Enter the elements: \"))\r\n",
        "    list.append(ele)\r\n",
        "print(\"Second largest element is:\", sorted(list)[-2])\r\n"
      ],
      "execution_count": null,
      "outputs": []
    },
    {
      "cell_type": "code",
      "metadata": {
        "id": "kuZoq-lqVXrH"
      },
      "source": [
        "#Q11\r\n",
        "#Write a python program to count the number of elements in a list with in a specific range\r\n",
        "def count_list(l, min, max):\r\n",
        "    ctr = 0\r\n",
        "    for x in l:\r\n",
        "        if min <= x <= max:\r\n",
        "            ctr += 1\r\n",
        "    return ctr\r\n",
        "list = [5,10,25,30,99,67,54,89,77,57,97]\r\n",
        "print(count_list(list,50,100))"
      ],
      "execution_count": null,
      "outputs": []
    },
    {
      "cell_type": "code",
      "metadata": {
        "id": "m9hYV1pVVfvv"
      },
      "source": [
        "#Q12\r\n",
        "#Write a Python program to find the second smallest number in a list\r\n",
        "def second_smallest(num):\r\n",
        "  if (len(num)<2):\r\n",
        "    return\r\n",
        "  if ((len(num)==2)  and (num[0] == num[1]) ):\r\n",
        "    return\r\n",
        "  item1 = set()\r\n",
        "  item2 = []\r\n",
        "  for x in num:\r\n",
        "    if x not in item1:\r\n",
        "      item2.append(x)\r\n",
        "      item1.add(x)\r\n",
        "  item2.sort()    \r\n",
        "  return  item2[1]   \r\n",
        "print(second_smallest([2,0,5,6,9,7,4]))"
      ],
      "execution_count": null,
      "outputs": []
    }
  ]
}