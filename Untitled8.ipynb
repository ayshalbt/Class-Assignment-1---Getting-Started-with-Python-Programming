{
  "nbformat": 4,
  "nbformat_minor": 0,
  "metadata": {
    "colab": {
      "name": "Untitled8.ipynb",
      "provenance": [],
      "authorship_tag": "ABX9TyM5rzEBPpPhqJ2c/IBgRIYE",
      "include_colab_link": true
    },
    "kernelspec": {
      "name": "python3",
      "display_name": "Python 3"
    }
  },
  "cells": [
    {
      "cell_type": "markdown",
      "metadata": {
        "id": "view-in-github",
        "colab_type": "text"
      },
      "source": [
        "<a href=\"https://colab.research.google.com/github/ayshalbt/Class-Assignment-1---Getting-Started-with-Python-Programming/blob/master/Untitled8.ipynb\" target=\"_parent\"><img src=\"https://colab.research.google.com/assets/colab-badge.svg\" alt=\"Open In Colab\"/></a>"
      ]
    },
    {
      "cell_type": "code",
      "metadata": {
        "id": "7YrERkTbXhXe"
      },
      "source": [
        "class Student:\n",
        "    def fillDetails(self):\n",
        "        self.name = input(\"Enter your name : \")\n",
        "        self.age = input(\"Enter your age : \")\n",
        "        self.address = input(\"Enter your address : \")\n",
        "    def displayDetails(self):\n",
        "        print(f\"Name : {self.name}\\nAge : {self.age}\\nAddress : {self.address}\\n\")\n",
        "\n",
        "class Sports():\n",
        "    def accept_sportsmark(self):\n",
        "        self.mark = int(input(\"Enter the Sports mark : \"))\n",
        "    \n",
        "    def display_sportsmark(self):\n",
        "        print(\"Sports mark is {self.mark}\")\n",
        "\n",
        "\n",
        "class Statement(Student, Sports):\n",
        "    def accept_mark(self):\n",
        "        self.m1 = int(input(\"Enter the Mark of Subject 1 : \"))\n",
        "        self.m2 = int(input(\"Enter the Mark of Subject 2 : \"))\n",
        "        self.m3 = int(input(\"Enter the Mark of Subject 3 : \"))\n",
        "\n",
        "    \n",
        "    def display_total(self):\n",
        "        self.Total = self.m1+self.m2+self.m3+self.mark\n",
        "        print(\"{self.name}\\'s Total marks is {self.Total}\")"
      ],
      "execution_count": 1,
      "outputs": []
    }
  ]
}