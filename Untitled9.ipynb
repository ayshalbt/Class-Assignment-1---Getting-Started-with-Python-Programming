{
  "nbformat": 4,
  "nbformat_minor": 0,
  "metadata": {
    "colab": {
      "name": "Untitled9.ipynb",
      "provenance": [],
      "authorship_tag": "ABX9TyOqfvhQYtVSN4Ud6V2h18CM",
      "include_colab_link": true
    },
    "kernelspec": {
      "name": "python3",
      "display_name": "Python 3"
    }
  },
  "cells": [
    {
      "cell_type": "markdown",
      "metadata": {
        "id": "view-in-github",
        "colab_type": "text"
      },
      "source": [
        "<a href=\"https://colab.research.google.com/github/ayshalbt/Class-Assignment-1---Getting-Started-with-Python-Programming/blob/master/Untitled9.ipynb\" target=\"_parent\"><img src=\"https://colab.research.google.com/assets/colab-badge.svg\" alt=\"Open In Colab\"/></a>"
      ]
    },
    {
      "cell_type": "code",
      "metadata": {
        "colab": {
          "base_uri": "https://localhost:8080/"
        },
        "id": "y0b2Wwo4dDrc",
        "outputId": "1dc516ea-be7d-4730-8a81-ae1b900cddc6"
      },
      "source": [
        "class Student:\n",
        "    def __init__(self, name, classno, rollno):\n",
        "        self.name = name\n",
        "        self.classno = classno\n",
        "        self.rollno = rollno\n",
        "    \n",
        "    def display(self):\n",
        "        print(\"Name:\", self.name)\n",
        "        print(\"class:\", self.classno)\n",
        "        print(\"rollno:\", self.rollno)\n",
        "\n",
        "class Sports(Student): \n",
        "    def __init__(self, spmark):\n",
        "        super().__init__(\"mahi\", 8 , 3)\n",
        "        self.spmark=spmark\n",
        " \n",
        "    def display(self):\n",
        "        print(\"Sports mark:\", self.spmark)\n",
        " \n",
        "class Statement(Sports):  # Inheritance\n",
        "    def __init__(self, totmark):\n",
        "        super().__init__(50)\n",
        "        self.totmark = totmark\n",
        " \n",
        "    def total(self):\n",
        "        print(\"Name:\", self.name)\n",
        "        print(\"class:\", self.classno)\n",
        "        print(\"rollno:\", self.rollno)\n",
        "        print(\"Sports mark : \",self.spmark)\n",
        "        print(\"Total mark : \",self.totmark+self.spmark)\n",
        " \n",
        "a = Statement(300)\n",
        "print(a.total())\n",
        " "
      ],
      "execution_count": 2,
      "outputs": [
        {
          "output_type": "stream",
          "text": [
            "Name: mahi\n",
            "class: 8\n",
            "rollno: 3\n",
            "Sports mark :  50\n",
            "Total mark :  350\n",
            "None\n"
          ],
          "name": "stdout"
        }
      ]
    }
  ]
}